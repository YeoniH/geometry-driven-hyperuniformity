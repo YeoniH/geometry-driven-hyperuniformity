{
  "nbformat": 4,
  "nbformat_minor": 0,
  "metadata": {
    "colab": {
      "provenance": [],
      "include_colab_link": true
    },
    "kernelspec": {
      "name": "python3",
      "display_name": "Python 3"
    },
    "language_info": {
      "name": "python"
    }
  },
  "cells": [
    {
      "cell_type": "markdown",
      "metadata": {
        "id": "view-in-github",
        "colab_type": "text"
      },
      "source": [
        "<a href=\"https://colab.research.google.com/github/YeoniH/geometry-driven-hyperuniformity/blob/main/phase_angle_correlation.ipynb\" target=\"_parent\"><img src=\"https://colab.research.google.com/assets/colab-badge.svg\" alt=\"Open In Colab\"/></a>"
      ]
    },
    {
      "cell_type": "code",
      "source": [
        "from google.colab import drive\n",
        "drive.mount('/content/gdrive')"
      ],
      "metadata": {
        "id": "3ymQV9ys7vPG"
      },
      "execution_count": null,
      "outputs": []
    },
    {
      "cell_type": "code",
      "source": [
        "!mkdir my_projects\n",
        "%cd my_projects"
      ],
      "metadata": {
        "id": "I3uF3z_1A93x"
      },
      "execution_count": null,
      "outputs": []
    },
    {
      "cell_type": "code",
      "execution_count": null,
      "metadata": {
        "id": "oMlWYgEA6Eo4"
      },
      "outputs": [],
      "source": [
        "!git clone https://github.com/YeoniH/geometry-driven-hyperuniformity.git"
      ]
    },
    {
      "cell_type": "code",
      "source": [
        "!git pull"
      ],
      "metadata": {
        "id": "Po9AgKea9uNe"
      },
      "execution_count": null,
      "outputs": []
    },
    {
      "cell_type": "code",
      "source": [
        "!pip install freud-analysis"
      ],
      "metadata": {
        "id": "EmBNRsHb9wKT"
      },
      "execution_count": null,
      "outputs": []
    },
    {
      "cell_type": "code",
      "source": [
        "!ls\n",
        "%cd geometry-driven-hyperuniformity"
      ],
      "metadata": {
        "id": "TedC9PjmKAqs"
      },
      "execution_count": null,
      "outputs": []
    },
    {
      "cell_type": "code",
      "source": [
        "from os import system\n",
        "import numpy as np\n",
        "\n",
        "def generate_2d_poisson_pp(density, L):\n",
        "  \"\"\"\n",
        "  Args:\n",
        "    density: rate, i.e., number of points per unit volume\n",
        "    L: side length of the square simulation box\n",
        "  \"\"\"\n",
        "  mean = density * (L**2)\n",
        "  N = np.random.poisson(mean)\n",
        "\n",
        "  X = np.random.uniform(-L/2, L/2, N)\n",
        "  Y = np.random.uniform(-L/2, L/2, N)\n",
        "\n",
        "  coord = np.zeros((N, 3))\n",
        "  for i in range(N):\n",
        "    coord[i] = [X[i], Y[i], 0.0]\n",
        "  return coord"
      ],
      "metadata": {
        "id": "OyAKYn3U-cNk"
      },
      "execution_count": null,
      "outputs": []
    },
    {
      "cell_type": "code",
      "source": [
        "L = 70\n",
        "init_points = generate_2d_poisson_pp(density=1, L=L)\n",
        "num_points = len(init_points)"
      ],
      "metadata": {
        "id": "g5VxxJ0SDkSr"
      },
      "execution_count": null,
      "outputs": []
    },
    {
      "cell_type": "code",
      "source": [
        "print(num_points)"
      ],
      "metadata": {
        "id": "Wc9d6YJGD0o4"
      },
      "execution_count": null,
      "outputs": []
    },
    {
      "cell_type": "code",
      "source": [
        "from Analysis import PeriodicVoro as PV\n",
        "from tqdm import tqdm\n",
        "\n",
        "dim = 2\n",
        "num_iter = 5000   # number of iterations steps of the Lloyd's algorithm\n",
        "\n",
        "points = init_points\n",
        "for t in tqdm(range(num_iter+1)):\n",
        "  config = PV(dim=dim, points=points, L=L, step=t)\n",
        "  points = config.update_by_lloyd_algorithm()\n",
        "final_points = points"
      ],
      "metadata": {
        "id": "SRbw5l0jECxe"
      },
      "execution_count": null,
      "outputs": []
    },
    {
      "cell_type": "code",
      "source": [
        "import matplotlib.pyplot as plt\n",
        "\n",
        "fig, ax = plt.subplots(figsize=(5, 5))\n",
        "ax.tick_params(axis='both', labelsize=11)\n",
        "ax.set_aspect('equal', 'box')\n",
        "ax.scatter(final_points[:, 0], final_points[:, 1], color=\"k\")\n",
        "\n",
        "final_config = PV(dim, final_points, L, num_iter)\n",
        "for idx, polytope in enumerate(final_config.voro.polytopes):\n",
        "    facecolor = \"None\"\n",
        "    ax.fill(*zip(*polytope[:, :2]), facecolor=facecolor, edgecolor=\"k\", linewidth=1.)\n",
        "plt.show()"
      ],
      "metadata": {
        "id": "GixwVuXvju2D"
      },
      "execution_count": null,
      "outputs": []
    },
    {
      "cell_type": "code",
      "source": [
        "final_config.correlation_length()"
      ],
      "metadata": {
        "id": "qtnFssirIcIp"
      },
      "execution_count": null,
      "outputs": []
    }
  ]
}